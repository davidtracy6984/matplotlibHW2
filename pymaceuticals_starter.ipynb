{
 "cells": [
  {
   "cell_type": "markdown",
   "metadata": {},
   "source": [
    "## Observations and Insights"
   ]
  },
  {
   "cell_type": "markdown",
   "metadata": {},
   "source": []
  },
  {
   "cell_type": "markdown",
   "metadata": {},
   "source": [
    "## Dependencies and starter code"
   ]
  },
  {
   "cell_type": "code",
   "execution_count": 1,
   "metadata": {},
   "outputs": [
    {
     "data": {
      "text/html": [
       "<div>\n",
       "<style scoped>\n",
       "    .dataframe tbody tr th:only-of-type {\n",
       "        vertical-align: middle;\n",
       "    }\n",
       "\n",
       "    .dataframe tbody tr th {\n",
       "        vertical-align: top;\n",
       "    }\n",
       "\n",
       "    .dataframe thead th {\n",
       "        text-align: right;\n",
       "    }\n",
       "</style>\n",
       "<table border=\"1\" class=\"dataframe\">\n",
       "  <thead>\n",
       "    <tr style=\"text-align: right;\">\n",
       "      <th></th>\n",
       "      <th>Mouse ID</th>\n",
       "      <th>Drug Regimen</th>\n",
       "      <th>Sex</th>\n",
       "      <th>Age_months</th>\n",
       "      <th>Weight (g)</th>\n",
       "      <th>Timepoint</th>\n",
       "      <th>Tumor Volume (mm3)</th>\n",
       "      <th>Metastatic Sites</th>\n",
       "    </tr>\n",
       "  </thead>\n",
       "  <tbody>\n",
       "    <tr>\n",
       "      <td>0</td>\n",
       "      <td>k403</td>\n",
       "      <td>Ramicane</td>\n",
       "      <td>Male</td>\n",
       "      <td>21</td>\n",
       "      <td>16</td>\n",
       "      <td>0</td>\n",
       "      <td>45.000000</td>\n",
       "      <td>0</td>\n",
       "    </tr>\n",
       "    <tr>\n",
       "      <td>1</td>\n",
       "      <td>k403</td>\n",
       "      <td>Ramicane</td>\n",
       "      <td>Male</td>\n",
       "      <td>21</td>\n",
       "      <td>16</td>\n",
       "      <td>5</td>\n",
       "      <td>38.825898</td>\n",
       "      <td>0</td>\n",
       "    </tr>\n",
       "    <tr>\n",
       "      <td>2</td>\n",
       "      <td>k403</td>\n",
       "      <td>Ramicane</td>\n",
       "      <td>Male</td>\n",
       "      <td>21</td>\n",
       "      <td>16</td>\n",
       "      <td>10</td>\n",
       "      <td>35.014271</td>\n",
       "      <td>1</td>\n",
       "    </tr>\n",
       "    <tr>\n",
       "      <td>3</td>\n",
       "      <td>k403</td>\n",
       "      <td>Ramicane</td>\n",
       "      <td>Male</td>\n",
       "      <td>21</td>\n",
       "      <td>16</td>\n",
       "      <td>15</td>\n",
       "      <td>34.223992</td>\n",
       "      <td>1</td>\n",
       "    </tr>\n",
       "    <tr>\n",
       "      <td>4</td>\n",
       "      <td>k403</td>\n",
       "      <td>Ramicane</td>\n",
       "      <td>Male</td>\n",
       "      <td>21</td>\n",
       "      <td>16</td>\n",
       "      <td>20</td>\n",
       "      <td>32.997729</td>\n",
       "      <td>1</td>\n",
       "    </tr>\n",
       "  </tbody>\n",
       "</table>\n",
       "</div>"
      ],
      "text/plain": [
       "  Mouse ID Drug Regimen   Sex  Age_months  Weight (g)  Timepoint  \\\n",
       "0     k403     Ramicane  Male          21          16          0   \n",
       "1     k403     Ramicane  Male          21          16          5   \n",
       "2     k403     Ramicane  Male          21          16         10   \n",
       "3     k403     Ramicane  Male          21          16         15   \n",
       "4     k403     Ramicane  Male          21          16         20   \n",
       "\n",
       "   Tumor Volume (mm3)  Metastatic Sites  \n",
       "0           45.000000                 0  \n",
       "1           38.825898                 0  \n",
       "2           35.014271                 1  \n",
       "3           34.223992                 1  \n",
       "4           32.997729                 1  "
      ]
     },
     "execution_count": 1,
     "metadata": {},
     "output_type": "execute_result"
    }
   ],
   "source": [
    "# Dependencies and Setup\n",
    "import matplotlib.pyplot as plt\n",
    "import pandas as pd\n",
    "import scipy.stats as st\n",
    "from scipy.stats import linregress\n",
    "import numpy as np\n",
    "\n",
    "# Study data files\n",
    "mouse_metadata = \"data/Mouse_metadata.csv\"\n",
    "study_results = \"data/Study_results.csv\"\n",
    "\n",
    "# Read the mouse data and the study results\n",
    "mouse_metadata = pd.read_csv(mouse_metadata)\n",
    "study_results = pd.read_csv(study_results)\n",
    "\n",
    "# Combine the data into a single dataset\n",
    "pharma_df = pd.merge(mouse_metadata, study_results, how=\"left\", on=[\"Mouse ID\"])\n",
    "# sample the heading after merge\n",
    "pharma_df.head()"
   ]
  },
  {
   "cell_type": "markdown",
   "metadata": {},
   "source": [
    "## Summary statistics"
   ]
  },
  {
   "cell_type": "code",
   "execution_count": 53,
   "metadata": {},
   "outputs": [],
   "source": [
    "# Generate a summary statistics table of mean, median, variance, standard deviation, and SEM of the tumor volume for each regimen\n"
   ]
  },
  {
   "cell_type": "code",
   "execution_count": 2,
   "metadata": {},
   "outputs": [
    {
     "data": {
      "text/html": [
       "<div>\n",
       "<style scoped>\n",
       "    .dataframe tbody tr th:only-of-type {\n",
       "        vertical-align: middle;\n",
       "    }\n",
       "\n",
       "    .dataframe tbody tr th {\n",
       "        vertical-align: top;\n",
       "    }\n",
       "\n",
       "    .dataframe thead th {\n",
       "        text-align: right;\n",
       "    }\n",
       "</style>\n",
       "<table border=\"1\" class=\"dataframe\">\n",
       "  <thead>\n",
       "    <tr style=\"text-align: right;\">\n",
       "      <th></th>\n",
       "      <th>Tumor Mean</th>\n",
       "      <th>Tumor Median</th>\n",
       "      <th>Tumor Variance</th>\n",
       "      <th>Tumor Std. Dev.</th>\n",
       "      <th>Tumor SEM</th>\n",
       "    </tr>\n",
       "    <tr>\n",
       "      <th>Drug Regimen</th>\n",
       "      <th></th>\n",
       "      <th></th>\n",
       "      <th></th>\n",
       "      <th></th>\n",
       "      <th></th>\n",
       "    </tr>\n",
       "  </thead>\n",
       "  <tbody>\n",
       "    <tr>\n",
       "      <td>Capomulin</td>\n",
       "      <td>40.675741</td>\n",
       "      <td>41.557809</td>\n",
       "      <td>24.947764</td>\n",
       "      <td>4.994774</td>\n",
       "      <td>0.329346</td>\n",
       "    </tr>\n",
       "    <tr>\n",
       "      <td>Ceftamin</td>\n",
       "      <td>52.591172</td>\n",
       "      <td>51.776157</td>\n",
       "      <td>39.290177</td>\n",
       "      <td>6.268188</td>\n",
       "      <td>0.469821</td>\n",
       "    </tr>\n",
       "    <tr>\n",
       "      <td>Infubinol</td>\n",
       "      <td>52.884795</td>\n",
       "      <td>51.820584</td>\n",
       "      <td>43.128684</td>\n",
       "      <td>6.567243</td>\n",
       "      <td>0.492236</td>\n",
       "    </tr>\n",
       "    <tr>\n",
       "      <td>Ketapril</td>\n",
       "      <td>55.235638</td>\n",
       "      <td>53.698743</td>\n",
       "      <td>68.553577</td>\n",
       "      <td>8.279709</td>\n",
       "      <td>0.603860</td>\n",
       "    </tr>\n",
       "    <tr>\n",
       "      <td>Naftisol</td>\n",
       "      <td>54.331565</td>\n",
       "      <td>52.509285</td>\n",
       "      <td>66.173479</td>\n",
       "      <td>8.134708</td>\n",
       "      <td>0.596466</td>\n",
       "    </tr>\n",
       "    <tr>\n",
       "      <td>Placebo</td>\n",
       "      <td>54.033581</td>\n",
       "      <td>52.288934</td>\n",
       "      <td>61.168083</td>\n",
       "      <td>7.821003</td>\n",
       "      <td>0.581331</td>\n",
       "    </tr>\n",
       "    <tr>\n",
       "      <td>Propriva</td>\n",
       "      <td>52.322552</td>\n",
       "      <td>50.854632</td>\n",
       "      <td>42.351070</td>\n",
       "      <td>6.507770</td>\n",
       "      <td>0.512884</td>\n",
       "    </tr>\n",
       "    <tr>\n",
       "      <td>Ramicane</td>\n",
       "      <td>40.216745</td>\n",
       "      <td>40.673236</td>\n",
       "      <td>23.486704</td>\n",
       "      <td>4.846308</td>\n",
       "      <td>0.320955</td>\n",
       "    </tr>\n",
       "    <tr>\n",
       "      <td>Stelasyn</td>\n",
       "      <td>54.233149</td>\n",
       "      <td>52.431737</td>\n",
       "      <td>59.450562</td>\n",
       "      <td>7.710419</td>\n",
       "      <td>0.573111</td>\n",
       "    </tr>\n",
       "    <tr>\n",
       "      <td>Zoniferol</td>\n",
       "      <td>53.236507</td>\n",
       "      <td>51.818479</td>\n",
       "      <td>48.533355</td>\n",
       "      <td>6.966589</td>\n",
       "      <td>0.516398</td>\n",
       "    </tr>\n",
       "  </tbody>\n",
       "</table>\n",
       "</div>"
      ],
      "text/plain": [
       "              Tumor Mean  Tumor Median  Tumor Variance  Tumor Std. Dev.  \\\n",
       "Drug Regimen                                                              \n",
       "Capomulin      40.675741     41.557809       24.947764         4.994774   \n",
       "Ceftamin       52.591172     51.776157       39.290177         6.268188   \n",
       "Infubinol      52.884795     51.820584       43.128684         6.567243   \n",
       "Ketapril       55.235638     53.698743       68.553577         8.279709   \n",
       "Naftisol       54.331565     52.509285       66.173479         8.134708   \n",
       "Placebo        54.033581     52.288934       61.168083         7.821003   \n",
       "Propriva       52.322552     50.854632       42.351070         6.507770   \n",
       "Ramicane       40.216745     40.673236       23.486704         4.846308   \n",
       "Stelasyn       54.233149     52.431737       59.450562         7.710419   \n",
       "Zoniferol      53.236507     51.818479       48.533355         6.966589   \n",
       "\n",
       "              Tumor SEM  \n",
       "Drug Regimen             \n",
       "Capomulin      0.329346  \n",
       "Ceftamin       0.469821  \n",
       "Infubinol      0.492236  \n",
       "Ketapril       0.603860  \n",
       "Naftisol       0.596466  \n",
       "Placebo        0.581331  \n",
       "Propriva       0.512884  \n",
       "Ramicane       0.320955  \n",
       "Stelasyn       0.573111  \n",
       "Zoniferol      0.516398  "
      ]
     },
     "execution_count": 2,
     "metadata": {},
     "output_type": "execute_result"
    }
   ],
   "source": [
    "# set the index to the regimen\n",
    "pharma_indexed = pharma_df.set_index(['Drug Regimen'])\n",
    "\n",
    "#build an group for each Regimen\n",
    "tumor_mean = pharma_indexed.groupby(\"Drug Regimen\")['Tumor Volume (mm3)'].mean()\n",
    "pharma_indexed['Tumor Mean'] = tumor_mean\n",
    "tumor_median = pharma_indexed.groupby(\"Drug Regimen\")['Tumor Volume (mm3)'].median()\n",
    "pharma_indexed['Tumor Median'] = tumor_median\n",
    "tumor_variance = pharma_indexed.groupby(\"Drug Regimen\")['Tumor Volume (mm3)'].var()\n",
    "pharma_indexed['Tumor Variance'] = tumor_variance\n",
    "tumor_standard = pharma_indexed.groupby(\"Drug Regimen\")['Tumor Volume (mm3)'].std()\n",
    "pharma_indexed['Tumor Std. Deviation'] = tumor_standard\n",
    "tumor_SEM = pharma_indexed.groupby(\"Drug Regimen\")['Tumor Volume (mm3)'].sem()\n",
    "pharma_indexed['Tumor SEM'] = tumor_SEM\n",
    "\n",
    "# Build a dataframe to put all this in\n",
    "newpharma_df = pd.DataFrame({\"Tumor Mean\":tumor_mean,\n",
    "                             \"Tumor Median\":tumor_median,\n",
    "                             \"Tumor Variance\":tumor_variance, \n",
    "                             \"Tumor Std. Dev.\":tumor_standard, \n",
    "                             \"Tumor SEM\":tumor_SEM })\n",
    "\n",
    "newpharma_df"
   ]
  },
  {
   "cell_type": "markdown",
   "metadata": {},
   "source": [
    "## Bar plots"
   ]
  },
  {
   "cell_type": "code",
   "execution_count": 3,
   "metadata": {},
   "outputs": [
    {
     "data": {
      "image/png": "[encoded data removed]",
      "text/plain": [
       "<Figure size 432x288 with 1 Axes>"
      ]
     },
     "metadata": {
      "needs_background": "light"
     },
     "output_type": "display_data"
    }
   ],
   "source": [
    "# Generate a bar plot showing number of data points for each treatment regimen using pandas\n",
    "\n",
    "bardata_df = pharma_df.groupby(['Drug Regimen'])\n",
    "bardata_value = pd.DataFrame(bardata_df[\"Drug Regimen\"].count())\n",
    "bardata_value\n",
    "bardata_value.plot(kind = \"bar\", title = \"Drug Regimen Data\")\n",
    "plt.ylabel('Data Points')\n",
    "plt.show()"
   ]
  },
  {
   "cell_type": "code",
   "execution_count": 4,
   "metadata": {},
   "outputs": [
    {
     "data": {
      "image/png": "[encoded data removed]",
      "text/plain": [
       "<Figure size 432x288 with 1 Axes>"
      ]
     },
     "metadata": {
      "needs_background": "light"
     },
     "output_type": "display_data"
    }
   ],
   "source": [
    "# Generate a bar plot showing number of data points for each treatment regimen using pyplot\n",
    "x_axis = np.arange(len(bardata_value))\n",
    "x_axis_ticks = [values for values in x_axis]\n",
    "plt.bar(x_axis, bardata_value[\"Drug Regimen\"], align=\"center\", width=0.7)\n",
    "plt.xticks(x_axis_ticks, list(bardata_value.index), rotation=\"vertical\")\n",
    "label = [\"Drug Regimen\"] \n",
    "plt.legend(label, loc=\"upper center\")\n",
    "plt.title(\"Drug Regimen Data\")\n",
    "plt.xlabel(\"Drug Regimen\")\n",
    "plt.ylabel(\"Data Points\")\n",
    "plt.show()\n"
   ]
  },
  {
   "cell_type": "markdown",
   "metadata": {},
   "source": [
    "## Pie plots"
   ]
  },
  {
   "cell_type": "code",
   "execution_count": 5,
   "metadata": {},
   "outputs": [
    {
     "data": {
      "image/png": "[encoded data removed]",
      "text/plain": [
       "<Figure size 432x288 with 1 Axes>"
      ]
     },
     "metadata": {},
     "output_type": "display_data"
    }
   ],
   "source": [
    "# Generate a pie plot showing the distribution of female versus male mice using pandas\n",
    "genderlist = pharma_df.groupby(\"Sex\")\n",
    "gender_df = pd.DataFrame(genderlist[\"Sex\"].count())\n",
    "gender_df.plot(kind=\"pie\", y=\"Sex\", title=\"Distribution of Female versus Male mice\", \n",
    "autopct=\"%1.1f%%\", startangle=260, shadow= True, legend=False)\n",
    "plt.axis(\"equal\")\n",
    "plt.show()"
   ]
  },
  {
   "cell_type": "code",
   "execution_count": 6,
   "metadata": {},
   "outputs": [
    {
     "data": {
      "image/png": "[encoded data removed]",
      "text/plain": [
       "<Figure size 432x288 with 1 Axes>"
      ]
     },
     "metadata": {},
     "output_type": "display_data"
    }
   ],
   "source": [
    "# Generate a pie plot showing the distribution of female versus male mice using pyplot\n",
    "plt.pie(gender_df['Sex'], labels=list(gender_df.index.values), autopct=\"%1.1f%%\", startangle=260, shadow = True)\n",
    "plt.axis(\"equal\")\n",
    "plt.title(\"Distribution of Female versus Male mice\")\n",
    "plt.ylabel(\"Gender\")\n",
    "plt.show()"
   ]
  },
  {
   "cell_type": "markdown",
   "metadata": {},
   "source": [
    "## Quartiles, outliers and boxplots"
   ]
  },
  {
   "cell_type": "code",
   "execution_count": 7,
   "metadata": {},
   "outputs": [
    {
     "name": "stdout",
     "output_type": "stream",
     "text": [
      "Potential Outliers could be values below 20.705 or above. 51.832\n"
     ]
    }
   ],
   "source": [
    "# Calculate the final tumor volume of each mouse across four of the most promising treatment regimens.\n",
    "# Calculate the IQR and quantitatively determine if there are any potential outliers. \n",
    "# Grab the first regimen. CAPOMULIN\n",
    "cap_df = pharma_df.loc[pharma_df['Drug Regimen'] == 'Capomulin',:] \n",
    "cap_time = cap_df.groupby('Mouse ID').max()['Timepoint']\n",
    "cap_time_df = pd.DataFrame(cap_time)\n",
    "cap_best_time = pd.merge(cap_time_df, pharma_df, on=('Mouse ID','Timepoint'), how='left')\n",
    "cap_tumor_size = cap_best_time[\"Tumor Volume (mm3)\"]\n",
    "cap_tumor_size\n",
    "cap_quartiles = cap_tumor_size.quantile([.25,.5,.75])\n",
    "cap_lower_quartile = cap_quartiles[0.25]\n",
    "cap_upper_quartile = cap_quartiles[0.75]\n",
    "cap_iqr = cap_upper_quartile - cap_lower_quartile\n",
    "cap_lower_boundry = cap_lower_quartile - (1.5*cap_iqr)\n",
    "cap_upper_boundry = cap_upper_quartile + (1.5*cap_iqr)\n",
    "print(f\"Potential Outliers could be values below {(cap_lower_boundry):.3f} or above. {(cap_upper_boundry):.3f}\")"
   ]
  },
  {
   "cell_type": "code",
   "execution_count": 8,
   "metadata": {},
   "outputs": [
    {
     "name": "stdout",
     "output_type": "stream",
     "text": [
      "Potential Outliers could be values below 17.913 or above. 54.307\n"
     ]
    }
   ],
   "source": [
    "# Grab the first regimen. Ramicane\n",
    "ram_df = pharma_df.loc[pharma_df['Drug Regimen'] == 'Ramicane',:] \n",
    "ram_time = ram_df.groupby('Mouse ID').max()['Timepoint']\n",
    "ram_time_df = pd.DataFrame(ram_time)\n",
    "ram_best_time = pd.merge(ram_time_df, pharma_df, on=('Mouse ID','Timepoint'), how='left')\n",
    "ram_tumor_size = ram_best_time[\"Tumor Volume (mm3)\"]\n",
    "ram_tumor_size\n",
    "ram_quartiles = ram_tumor_size.quantile([.25,.5,.75])\n",
    "ram_lower_quartile = ram_quartiles[0.25]\n",
    "ram_upper_quartile = ram_quartiles[0.75]\n",
    "ram_iqr = ram_upper_quartile - ram_lower_quartile\n",
    "ram_lower_boundry = ram_lower_quartile - (1.5*ram_iqr)\n",
    "ram_upper_boundry = ram_upper_quartile + (1.5*ram_iqr)\n",
    "print(f\"Potential Outliers could be values below {(ram_lower_boundry):.3f} or above. {(ram_upper_boundry):.3f}\")"
   ]
  },
  {
   "cell_type": "code",
   "execution_count": 9,
   "metadata": {},
   "outputs": [
    {
     "name": "stdout",
     "output_type": "stream",
     "text": [
      "Potential Outliers could be values below 36.833 or above. 82.741\n"
     ]
    }
   ],
   "source": [
    "# Grab the first regimen. Infubinol\n",
    "inf_df = pharma_df.loc[pharma_df['Drug Regimen'] == 'Infubinol',:] \n",
    "inf_time = inf_df.groupby('Mouse ID').max()['Timepoint']\n",
    "inf_time_df = pd.DataFrame(inf_time)\n",
    "inf_best_time = pd.merge(inf_time_df, pharma_df, on=('Mouse ID','Timepoint'), how='left')\n",
    "inf_tumor_size = inf_best_time[\"Tumor Volume (mm3)\"]\n",
    "inf_tumor_size\n",
    "inf_quartiles = inf_tumor_size.quantile([.25,.5,.75])\n",
    "inf_lower_quartile = inf_quartiles[0.25]\n",
    "inf_upper_quartile = inf_quartiles[0.75]\n",
    "inf_iqr = inf_upper_quartile - inf_lower_quartile\n",
    "inf_lower_boundry = inf_lower_quartile - (1.5*inf_iqr)\n",
    "inf_upper_boundry = inf_upper_quartile + (1.5*inf_iqr)\n",
    "print(f\"Potential Outliers could be values below {(inf_lower_boundry):.3f} or above. {(inf_upper_boundry):.3f}\")"
   ]
  },
  {
   "cell_type": "code",
   "execution_count": 10,
   "metadata": {},
   "outputs": [
    {
     "name": "stdout",
     "output_type": "stream",
     "text": [
      "Potential Outliers for Capomulin could be values below 20.705 or above. 51.832\n",
      "Potential Outliers for Ramicane could be values below 17.913 or above. 54.307\n",
      "Potential Outliers for Infubinol could be values below 36.833 or above. 82.741\n",
      "Potential Outliers for Ceftamin could be values below 25.355 or above. 87.666\n"
     ]
    }
   ],
   "source": [
    "# Grab the first regimen. Ceftamin\n",
    "cef_df = pharma_df.loc[pharma_df['Drug Regimen'] == 'Ceftamin',:] \n",
    "cef_time = cef_df.groupby('Mouse ID').max()['Timepoint']\n",
    "cef_time_df = pd.DataFrame(cef_time)\n",
    "cef_best_time = pd.merge(cef_time_df, pharma_df, on=('Mouse ID','Timepoint'), how='left')\n",
    "cef_tumor_size = cef_best_time[\"Tumor Volume (mm3)\"]\n",
    "cef_tumor_size\n",
    "cef_quartiles = cef_tumor_size.quantile([.25,.5,.75])\n",
    "cef_lower_quartile = cef_quartiles[0.25]\n",
    "cef_upper_quartile = cef_quartiles[0.75]\n",
    "cef_iqr = cef_upper_quartile - cef_lower_quartile\n",
    "cef_lower_boundry = cef_lower_quartile - (1.5*cef_iqr)\n",
    "cef_upper_boundry = cef_upper_quartile + (1.5*cef_iqr)\n",
    "print(f\"Potential Outliers for Capomulin could be values below {(cap_lower_boundry):.3f} or above. {(cap_upper_boundry):.3f}\")\n",
    "print(f\"Potential Outliers for Ramicane could be values below {(ram_lower_boundry):.3f} or above. {(ram_upper_boundry):.3f}\")\n",
    "print(f\"Potential Outliers for Infubinol could be values below {(inf_lower_boundry):.3f} or above. {(inf_upper_boundry):.3f}\")\n",
    "print(f\"Potential Outliers for Ceftamin could be values below {(cef_lower_boundry):.3f} or above. {(cef_upper_boundry):.3f}\")\n"
   ]
  },
  {
   "cell_type": "code",
   "execution_count": 11,
   "metadata": {},
   "outputs": [
    {
     "data": {
      "image/png": "[encoded data removed]",
      "text/plain": [
       "<Figure size 432x288 with 1 Axes>"
      ]
     },
     "metadata": {
      "needs_background": "light"
     },
     "output_type": "display_data"
    }
   ],
   "source": [
    "# Generate a box plot of the final tumor volume of each mouse across four regimens of interest\n",
    "dataPlot = [cap_tumor_size, ram_tumor_size, inf_tumor_size, cef_tumor_size]\n",
    "fig1, ax1 = plt.subplots()\n",
    "ax1.set_title('Tumors')\n",
    "ax1.set_ylabel('Tumor Size (mm3)')\n",
    "ax1.set_xlabel('Drug Regimen')\n",
    "\n",
    "ax1.boxplot(dataPlot, labels=[\"Capomulin\",\"Ramicane\",\"Infubinol\",\"Ceftamin\",])\n",
    "plt.tight_layout()\n",
    "plt.show()"
   ]
  },
  {
   "cell_type": "markdown",
   "metadata": {},
   "source": [
    "## Line and scatter plots"
   ]
  },
  {
   "cell_type": "code",
   "execution_count": 12,
   "metadata": {},
   "outputs": [
    {
     "data": {
      "image/png": "[encoded data removed]",
      "text/plain": [
       "<Figure size 432x288 with 1 Axes>"
      ]
     },
     "metadata": {
      "needs_background": "light"
     },
     "output_type": "display_data"
    }
   ],
   "source": [
    "# Generate a line plot of time point versus tumor volume for a mouse treated with Capomulin\n",
    "cap_line = cap_df.loc[cap_df['Mouse ID'] == 's185']\n",
    "cap_x_axis = cap_line['Timepoint']\n",
    "tumor_volume = cap_line['Tumor Volume (mm3)']\n",
    "\n",
    "plt.title('Capomulin treatmeant - Mouse ID s185')\n",
    "plt.plot(cap_x_axis, tumor_volume ,linewidth=2, markersize=12)\n",
    "plt.xlabel('Timepoint (Days)')\n",
    "plt.ylabel('Tumor Volume (mm3)')\n",
    "plt.tight_layout()\n",
    "plt.show()\n"
   ]
  },
  {
   "cell_type": "code",
   "execution_count": 13,
   "metadata": {},
   "outputs": [
    {
     "data": {
      "image/png": "[encoded data removed]",
      "text/plain": [
       "<Figure size 432x288 with 1 Axes>"
      ]
     },
     "metadata": {
      "needs_background": "light"
     },
     "output_type": "display_data"
    }
   ],
   "source": [
    "# Generate a scatter plot of mouse weight versus average tumor volume for the Capomulin regimen\n",
    "avg_tumor = cap_df.groupby(['Mouse ID']).mean()\n",
    "plt.scatter(avg_tumor['Weight (g)'],avg_tumor['Tumor Volume (mm3)'])\n",
    "plt.xlabel('Mouse Weight (g)')\n",
    "plt.ylabel('Average Tumor Volume (mm3)')\n",
    "plt.show()"
   ]
  },
  {
   "cell_type": "code",
   "execution_count": 19,
   "metadata": {},
   "outputs": [
    {
     "data": {
      "image/png": "[encoded data removed]",
      "text/plain": [
       "<Figure size 432x288 with 1 Axes>"
      ]
     },
     "metadata": {
      "needs_background": "light"
     },
     "output_type": "display_data"
    }
   ],
   "source": [
    "# Correlation between the weight and tumor volume.\n",
    "# Add the linear regression equation and line to plot\n",
    "x_values = pharma_df['Weight (g)']\n",
    "y_values = pharma_df['Tumor Volume (mm3)']\n",
    "(slope, intercept, rvalue, pvalue, stderr) = linregress(x_values, y_values)\n",
    "regress_values = x_values * slope + intercept\n",
    "line_eq = \"y = \" + str(round(slope,2)) + \"x + \" + str(round(intercept,2))\n",
    "plt.scatter(x_values,y_values)\n",
    "plt.plot(x_values,regress_values,\"r-\")\n",
    "plt.annotate(line_eq,(6,10),fontsize=15,color=\"red\")\n",
    "plt.xlabel('Weight (g)')\n",
    "plt.ylabel('Tumor Volume (mm3)')\n",
    "plt.show()\n"
   ]
  }
 ],
 "metadata": {
  "anaconda-cloud": {},
  "kernelspec": {
   "display_name": "Python 3",
   "language": "python",
   "name": "python3"
  },
  "language_info": {
   "codemirror_mode": {
    "name": "ipython",
    "version": 3
   },
   "file_extension": ".py",
   "mimetype": "text/x-python",
   "name": "python",
   "nbconvert_exporter": "python",
   "pygments_lexer": "ipython3",
   "version": "3.7.4"
  }
 },
 "nbformat": 4,
 "nbformat_minor": 4
}
